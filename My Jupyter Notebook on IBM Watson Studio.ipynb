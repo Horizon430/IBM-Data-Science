{
 "cells": [
  {
   "cell_type": "markdown",
   "metadata": {
    "collapsed": true
   },
   "source": [
    "<h1>My Jupyter Notebook on IBM Watson Studio</h1>"
   ]
  },
  {
   "cell_type": "markdown",
   "metadata": {},
   "source": [
    "<b>Yunze He </b>\n",
    "Currently I am a student"
   ]
  },
  {
   "cell_type": "markdown",
   "metadata": {},
   "source": [
    "<i>I am interested in data science because I am interested in math and cs. Computer science is a good field can combine both math and cs</i>"
   ]
  },
  {
   "cell_type": "markdown",
   "metadata": {},
   "source": [
    "<h3>It must be executed and must display an output. Try to keep the code simple (it can even be \"1 + 1\").</h3>"
   ]
  },
  {
   "cell_type": "code",
   "execution_count": 10,
   "metadata": {},
   "outputs": [
    {
     "name": "stdout",
     "output_type": "stream",
     "text": [
      "2\n"
     ]
    }
   ],
   "source": [
    "print(1+1)"
   ]
  },
  {
   "cell_type": "markdown",
   "metadata": {},
   "source": [
    "<ul>\n",
    "<li>Week1</li>\n",
    "<li>Week2</li>\n",
    "<li>Week3</li>\n",
    "<li>Week4</li>\n",
    "</ul>\n",
    "<ol>\n",
    "<li>Week1</li>\n",
    "<li>Week2</li>\n",
    "<li>Week3</li>\n",
    "<li>Week4</li>\n",
    "</ol>\n",
    "<table style=\"width:20%\">\n",
    "<tr>\n",
    "<thWeek1</th>\n",
    "<th>Week2</th>\n",
    "<th>Week3</th>\n",
    "<th>Week4</th>\n",
    "</tr>"
   ]
  }
 ],
 "metadata": {
  "kernelspec": {
   "display_name": "Python 3.9",
   "language": "python",
   "name": "python3"
  },
  "language_info": {
   "codemirror_mode": {
    "name": "ipython",
    "version": 3
   },
   "file_extension": ".py",
   "mimetype": "text/x-python",
   "name": "python",
   "nbconvert_exporter": "python",
   "pygments_lexer": "ipython3",
   "version": "3.9.13"
  }
 },
 "nbformat": 4,
 "nbformat_minor": 1
}
